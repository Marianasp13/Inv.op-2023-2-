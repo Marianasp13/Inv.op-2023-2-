{
  "nbformat": 4,
  "nbformat_minor": 0,
  "metadata": {
    "colab": {
      "provenance": [],
      "authorship_tag": "ABX9TyM+aeKQbH1YtjQmQ7rhGHIK",
      "include_colab_link": true
    },
    "kernelspec": {
      "name": "python3",
      "display_name": "Python 3"
    },
    "language_info": {
      "name": "python"
    }
  },
  "cells": [
    {
      "cell_type": "markdown",
      "metadata": {
        "id": "view-in-github",
        "colab_type": "text"
      },
      "source": [
        "<a href=\"https://colab.research.google.com/github/Marianasp13/Inv.op-2023-2-/blob/main/Investigacion_1.ipynb\" target=\"_parent\"><img src=\"https://colab.research.google.com/assets/colab-badge.svg\" alt=\"Open In Colab\"/></a>"
      ]
    },
    {
      "cell_type": "code",
      "execution_count": null,
      "metadata": {
        "colab": {
          "base_uri": "https://localhost:8080/",
          "height": 426
        },
        "id": "ZI5w3apz3Z3t",
        "outputId": "5c03ec31-b760-4b41-fe19-6606da00b0b1"
      },
      "outputs": [
        {
          "output_type": "stream",
          "name": "stderr",
          "text": [
            "/usr/local/lib/python3.10/dist-packages/ipykernel/ipkernel.py:283: DeprecationWarning: `should_run_async` will not call `transform_cell` automatically in the future. Please pass the result to `transformed_cell` argument and any exception that happen during thetransform in `preprocessing_exc_tuple` in IPython 7.17 and above.\n",
            "  and should_run_async(code)\n"
          ]
        },
        {
          "output_type": "display_data",
          "data": {
            "text/plain": [
              "<IPython.lib.display.IFrame at 0x7c8f0c2e3d00>"
            ],
            "text/html": [
              "\n",
              "        <iframe\n",
              "            width=\"100%\"\n",
              "            height=\"350\"\n",
              "            src=\"https://pythontutor.com/iframe-embed.html#code=%0A%23%20ejercicio%20de%20prueba%20de%20escritorio%0Anumero_1%20%3D%209%0Aprint%28%22Mostrar%20el%20valor%20actual%20de%20numero_1%3A%22%2C%20numero_1%29%0Anumero_2%20%3D%205%0Aprint%28%22Mostrar%20el%20producto%20de%20numero_1%20por%20numero_2%3A%20%22%2C%20numero_1%20%2A%20numero_2%29%0Asuma%20%3D%20numero_1%20%2B%20numero_2%0Adiv%20%3D%20suma%20/%204%0Anumero_1%20%3D%20numero_1%20-%202%0Anuevo%20%3D%20numero_1%20%2B%20%28suma%20%2A%203%29%0Afinal%20%3D%20nuevo%20%2A%20%285%20%2B%20numero_1%29%0A&origin=opt-frontend.js&cumulative=false&heapPrimitives=false&textReferences=false&curInstr=0&&verticalStack=false&py=3&rawInputLstJSON=%5B%5D&codeDivWidth=50%25&codeDivHeight=100%25\"\n",
              "            frameborder=\"0\"\n",
              "            allowfullscreen\n",
              "            \n",
              "        ></iframe>\n",
              "        "
            ]
          },
          "metadata": {}
        }
      ],
      "source": [
        "\n",
        "%%tutor --lang python3 -s\n",
        "\n",
        "# ejercicio de prueba de escritorio\n",
        "numero_1 = 9\n",
        "print(\"Mostrar el valor actual de numero_1:\", numero_1)\n",
        "numero_2 = 5\n",
        "print(\"Mostrar el producto de numero_1 por numero_2: \", numero_1 * numero_2)\n",
        "suma = numero_1 + numero_2\n",
        "div = suma / 4\n",
        "numero_1 = numero_1 - 2\n",
        "nuevo = numero_1 + (suma * 3)\n",
        "final = nuevo * (5 + numero_1)"
      ]
    },
    {
      "cell_type": "code",
      "source": [],
      "metadata": {
        "id": "7xb2oSnRyKMZ"
      },
      "execution_count": null,
      "outputs": []
    },
    {
      "cell_type": "markdown",
      "source": [
        "#esto es un título\n",
        "\n",
        "##esto es un subtitulo\n"
      ],
      "metadata": {
        "id": "nlNug0bZyM4J"
      }
    },
    {
      "cell_type": "code",
      "source": [],
      "metadata": {
        "colab": {
          "base_uri": "https://localhost:8080/"
        },
        "id": "PKyu6AzVytgn",
        "outputId": "450fe558-d860-4276-caf1-54f4d737a613"
      },
      "execution_count": 7,
      "outputs": [
        {
          "output_type": "stream",
          "name": "stdout",
          "text": [
            "pilar\n"
          ]
        }
      ]
    },
    {
      "cell_type": "code",
      "source": [
        "%%tutor --lang python3 -s\n",
        "\n",
        "# Ejecute estas instrucciones y observe el resultado obtenido\n",
        "import datetime\n",
        "x = datetime.date(2008, 8, 13)\n",
        "print(x)\n",
        "\n",
        "y = x + datetime.timedelta(days = 3, weeks = 5)\n",
        "print(y)\n"
      ],
      "metadata": {
        "colab": {
          "base_uri": "https://localhost:8080/",
          "height": 426
        },
        "id": "K34cNhHXc4Bn",
        "outputId": "84f37943-7fa9-49f9-ddca-eaa28665c3ff"
      },
      "execution_count": null,
      "outputs": [
        {
          "output_type": "stream",
          "name": "stderr",
          "text": [
            "/usr/local/lib/python3.10/dist-packages/ipykernel/ipkernel.py:283: DeprecationWarning: `should_run_async` will not call `transform_cell` automatically in the future. Please pass the result to `transformed_cell` argument and any exception that happen during thetransform in `preprocessing_exc_tuple` in IPython 7.17 and above.\n",
            "  and should_run_async(code)\n"
          ]
        },
        {
          "output_type": "display_data",
          "data": {
            "text/plain": [
              "<IPython.lib.display.IFrame at 0x7c8f0c2e3a00>"
            ],
            "text/html": [
              "\n",
              "        <iframe\n",
              "            width=\"100%\"\n",
              "            height=\"350\"\n",
              "            src=\"https://pythontutor.com/iframe-embed.html#code=%0A%23%20Ejecute%20estas%20instrucciones%20y%20observe%20el%20resultado%20obtenido%0Aimport%20datetime%0Ax%20%3D%20datetime.date%282008%2C%208%2C%2013%29%0Aprint%28x%29%0A%0Ay%20%3D%20x%20%2B%20datetime.timedelta%28days%20%3D%203%2C%20weeks%20%3D%205%29%0Aprint%28y%29%0A&origin=opt-frontend.js&cumulative=false&heapPrimitives=false&textReferences=false&curInstr=0&&verticalStack=false&py=3&rawInputLstJSON=%5B%5D&codeDivWidth=50%25&codeDivHeight=100%25\"\n",
              "            frameborder=\"0\"\n",
              "            allowfullscreen\n",
              "            \n",
              "        ></iframe>\n",
              "        "
            ]
          },
          "metadata": {}
        }
      ]
    },
    {
      "cell_type": "code",
      "source": [
        "%%tutor --lang python3 -s\n",
        "\n",
        "a = None\n",
        "print(\"El valor de a es %s.\" % a)\n",
        "ta = type(a)\n",
        "print(\"El tipo de a es %s.\" % ta)\n",
        "\n",
        "b =[]\n",
        "print(\"El valor de b es %s.\" % b)\n",
        "tb = type(b)\n",
        "print(\"El tipo de b es %s.\" % tb)\n",
        "\n",
        "c =0\n",
        "print(\"El valor de c es %s.\" % c)\n",
        "tc = type(c)\n",
        "print(\"El tipo de c es %s.\" % tc)\n",
        "\n",
        "d =\"0\"\n",
        "print(\"El valor de d es %s.\" % d)\n",
        "td = type(d)\n",
        "print(\"El tipo de d es %s.\" % td)\n",
        "\n",
        "e =0.0\n",
        "print(\"El valor de e es %s.\" % e)\n",
        "te = type(e)\n",
        "print(\"El tipo de e es %s.\" % te)\n"
      ],
      "metadata": {
        "colab": {
          "base_uri": "https://localhost:8080/",
          "height": 426
        },
        "id": "8Pcur__ZhUHY",
        "outputId": "b0fc98c9-a8fe-44e1-a036-8d701db716e4"
      },
      "execution_count": null,
      "outputs": [
        {
          "output_type": "stream",
          "name": "stderr",
          "text": [
            "/usr/local/lib/python3.10/dist-packages/ipykernel/ipkernel.py:283: DeprecationWarning: `should_run_async` will not call `transform_cell` automatically in the future. Please pass the result to `transformed_cell` argument and any exception that happen during thetransform in `preprocessing_exc_tuple` in IPython 7.17 and above.\n",
            "  and should_run_async(code)\n"
          ]
        },
        {
          "output_type": "display_data",
          "data": {
            "text/plain": [
              "<IPython.lib.display.IFrame at 0x7c8f0c2e3ee0>"
            ],
            "text/html": [
              "\n",
              "        <iframe\n",
              "            width=\"100%\"\n",
              "            height=\"350\"\n",
              "            src=\"https://pythontutor.com/iframe-embed.html#code=%0Aa%20%3D%20None%0Aprint%28%22El%20valor%20de%20a%20es%20%25s.%22%20%25%20a%29%0Ata%20%3D%20type%28a%29%0Aprint%28%22El%20tipo%20de%20a%20es%20%25s.%22%20%25%20ta%29%0A%0Ab%20%3D%5B%5D%0Aprint%28%22El%20valor%20de%20b%20es%20%25s.%22%20%25%20b%29%0Atb%20%3D%20type%28b%29%0Aprint%28%22El%20tipo%20de%20b%20es%20%25s.%22%20%25%20tb%29%0A%0Ac%20%3D0%0Aprint%28%22El%20valor%20de%20c%20es%20%25s.%22%20%25%20c%29%0Atc%20%3D%20type%28c%29%0Aprint%28%22El%20tipo%20de%20c%20es%20%25s.%22%20%25%20tc%29%0A%0Ad%20%3D%220%22%0Aprint%28%22El%20valor%20de%20d%20es%20%25s.%22%20%25%20d%29%0Atd%20%3D%20type%28d%29%0Aprint%28%22El%20tipo%20de%20d%20es%20%25s.%22%20%25%20td%29%0A%0Ae%20%3D0.0%0Aprint%28%22El%20valor%20de%20e%20es%20%25s.%22%20%25%20e%29%0Ate%20%3D%20type%28e%29%0Aprint%28%22El%20tipo%20de%20e%20es%20%25s.%22%20%25%20te%29%0A&origin=opt-frontend.js&cumulative=false&heapPrimitives=false&textReferences=false&curInstr=0&&verticalStack=false&py=3&rawInputLstJSON=%5B%5D&codeDivWidth=50%25&codeDivHeight=100%25\"\n",
              "            frameborder=\"0\"\n",
              "            allowfullscreen\n",
              "            \n",
              "        ></iframe>\n",
              "        "
            ]
          },
          "metadata": {}
        }
      ]
    }
  ]
}